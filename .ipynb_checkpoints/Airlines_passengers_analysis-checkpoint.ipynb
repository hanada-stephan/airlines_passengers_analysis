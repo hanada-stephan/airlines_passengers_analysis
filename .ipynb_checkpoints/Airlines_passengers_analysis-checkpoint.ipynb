{
 "cells": [
  {
   "cell_type": "markdown",
   "id": "a36aefc7",
   "metadata": {
    "id": "a36aefc7"
   },
   "source": [
    "# Airlines passengers analysis\n",
    "\n",
    "# DEU ERRO, CONSERTAR QUANDO DER\n",
    "# NÃO USAR"
   ]
  },
  {
   "cell_type": "markdown",
   "id": "54f0306f",
   "metadata": {
    "id": "54f0306f"
   },
   "source": [
    "---"
   ]
  },
  {
   "cell_type": "markdown",
   "id": "31dfc67d",
   "metadata": {
    "id": "31dfc67d"
   },
   "source": [
    "# EDA"
   ]
  },
  {
   "cell_type": "code",
   "execution_count": 1,
   "id": "2413bbf6",
   "metadata": {
    "id": "2413bbf6"
   },
   "outputs": [],
   "source": [
    "# Importing libraries\n",
    "\n",
    "import matplotlib as mpl\n",
    "import matplotlib.pyplot as plt\n",
    "import numpy as np\n",
    "import pandas as pd\n",
    "import seaborn as sns\n",
    "from sklearn.preprocessing import StandardScaler\n",
    "# from tensorflow.keras.models import Sequential\n",
    "# from tensorflow.keras.layers import Dense"
   ]
  },
  {
   "cell_type": "code",
   "execution_count": 2,
   "id": "8Y_l7ux8pzDt",
   "metadata": {
    "id": "8Y_l7ux8pzDt"
   },
   "outputs": [],
   "source": [
    "def inverse_scaling(array_1, array_2, first_column_name, second_column_name):\n",
    "  \n",
    "    # Converting the predictions into a df\n",
    "    scaled_data_dict = {\"date\": array_1, \"passengers_predict\": array_2[:,0]}\n",
    "    scaled_data_df = pd.DataFrame(scaled_data_dict)\n",
    "\n",
    "    # Redoing the scaling\n",
    "    inv_scaling = sc.inverse_transform(scaled_data_df)\n",
    "    df_inv_scaled = pd.DataFrame(inv_scaling)\n",
    "    df_inv_scaled.columns=[first_column_name, second_column_name]\n",
    "    return df_inv_scaled\n",
    "\n",
    "\n",
    "def data_lag(non_delay_data, lags):\n",
    "    \"\"\"Entrada: vetor: número de passageiros\n",
    "               n_passos: número de passos no regressor\n",
    "     Saída:\n",
    "              X_novo: Array 2D \n",
    "              y_novo: Array 1D - Nosso alvo\n",
    "    \"\"\"\n",
    "    X_laged, y_laged = [], []\n",
    "    for i in range(lags,non_delay_data.shape[0]):\n",
    "        X_laged.append(list(non_delay_data.loc[i-lags:i-1]))\n",
    "        y_laged.append(non_delay_data.loc[i])\n",
    "    X_laged, y_laged = np.array(X_laged), np.array(y_laged) \n",
    "    return X_laged, y_laged"
   ]
  },
  {
   "cell_type": "code",
   "execution_count": 3,
   "id": "25669adf",
   "metadata": {
    "id": "25669adf"
   },
   "outputs": [],
   "source": [
    "# Setting plot parameters\n",
    "\n",
    "mpl.rcParams[\"figure.figsize\"] = (10,6)\n",
    "mpl.rcParams[\"font.size\"] = 15"
   ]
  },
  {
   "cell_type": "code",
   "execution_count": 5,
   "id": "6693da8d",
   "metadata": {
    "id": "6693da8d"
   },
   "outputs": [],
   "source": [
    "# Importing the data set\n",
    "\n",
    "passengers = pd.read_csv(\"data/passengers.csv\")"
   ]
  },
  {
   "cell_type": "code",
   "execution_count": 6,
   "id": "6a0ad5ae",
   "metadata": {
    "colab": {
     "base_uri": "https://localhost:8080/",
     "height": 206
    },
    "id": "6a0ad5ae",
    "outputId": "d1c2550f-a2d5-494b-a60f-3971d5743839"
   },
   "outputs": [
    {
     "data": {
      "text/html": [
       "<div>\n",
       "<style scoped>\n",
       "    .dataframe tbody tr th:only-of-type {\n",
       "        vertical-align: middle;\n",
       "    }\n",
       "\n",
       "    .dataframe tbody tr th {\n",
       "        vertical-align: top;\n",
       "    }\n",
       "\n",
       "    .dataframe thead th {\n",
       "        text-align: right;\n",
       "    }\n",
       "</style>\n",
       "<table border=\"1\" class=\"dataframe\">\n",
       "  <thead>\n",
       "    <tr style=\"text-align: right;\">\n",
       "      <th></th>\n",
       "      <th>date</th>\n",
       "      <th>passengers</th>\n",
       "    </tr>\n",
       "  </thead>\n",
       "  <tbody>\n",
       "    <tr>\n",
       "      <th>139</th>\n",
       "      <td>1960.583333</td>\n",
       "      <td>606</td>\n",
       "    </tr>\n",
       "    <tr>\n",
       "      <th>140</th>\n",
       "      <td>1960.666667</td>\n",
       "      <td>508</td>\n",
       "    </tr>\n",
       "    <tr>\n",
       "      <th>141</th>\n",
       "      <td>1960.750000</td>\n",
       "      <td>461</td>\n",
       "    </tr>\n",
       "    <tr>\n",
       "      <th>142</th>\n",
       "      <td>1960.833333</td>\n",
       "      <td>390</td>\n",
       "    </tr>\n",
       "    <tr>\n",
       "      <th>143</th>\n",
       "      <td>1960.916667</td>\n",
       "      <td>432</td>\n",
       "    </tr>\n",
       "  </tbody>\n",
       "</table>\n",
       "</div>"
      ],
      "text/plain": [
       "            date  passengers\n",
       "139  1960.583333         606\n",
       "140  1960.666667         508\n",
       "141  1960.750000         461\n",
       "142  1960.833333         390\n",
       "143  1960.916667         432"
      ]
     },
     "execution_count": 6,
     "metadata": {},
     "output_type": "execute_result"
    }
   ],
   "source": [
    "# Displaying the first 5 rows\n",
    "\n",
    "passengers.tail()"
   ]
  },
  {
   "cell_type": "markdown",
   "id": "02087b28",
   "metadata": {
    "id": "02087b28"
   },
   "source": [
    "The column time has a float notation where the first four rows are the year and the decimals are number of the month over 12. The second column is the number of passengers."
   ]
  },
  {
   "cell_type": "markdown",
   "id": "658002fc",
   "metadata": {
    "id": "658002fc"
   },
   "source": [
    "Let's check for null values, data types and df's shape."
   ]
  },
  {
   "cell_type": "code",
   "execution_count": 7,
   "id": "1162d6cb",
   "metadata": {
    "colab": {
     "base_uri": "https://localhost:8080/"
    },
    "id": "1162d6cb",
    "outputId": "cb3a77a2-6b87-468a-a866-0adf8f41fec0"
   },
   "outputs": [
    {
     "data": {
      "text/plain": [
       "date          0\n",
       "passengers    0\n",
       "dtype: int64"
      ]
     },
     "execution_count": 7,
     "metadata": {},
     "output_type": "execute_result"
    }
   ],
   "source": [
    "# Looking for null values\n",
    "\n",
    "passengers.isna().sum()"
   ]
  },
  {
   "cell_type": "code",
   "execution_count": 8,
   "id": "c58be1ee",
   "metadata": {
    "colab": {
     "base_uri": "https://localhost:8080/"
    },
    "id": "c58be1ee",
    "outputId": "34d1ab7d-fba4-4f02-809e-36741b380dc3"
   },
   "outputs": [
    {
     "data": {
      "text/plain": [
       "date          float64\n",
       "passengers      int64\n",
       "dtype: object"
      ]
     },
     "execution_count": 8,
     "metadata": {},
     "output_type": "execute_result"
    }
   ],
   "source": [
    "# Checking the data types\n",
    "\n",
    "passengers.dtypes"
   ]
  },
  {
   "cell_type": "code",
   "execution_count": 9,
   "id": "8049f145",
   "metadata": {
    "colab": {
     "base_uri": "https://localhost:8080/"
    },
    "id": "8049f145",
    "outputId": "90c170bf-5090-4cc8-b3c7-1a3e93b0b57c"
   },
   "outputs": [
    {
     "data": {
      "text/plain": [
       "(144, 2)"
      ]
     },
     "execution_count": 9,
     "metadata": {},
     "output_type": "execute_result"
    }
   ],
   "source": [
    "# Checking the df's shape\n",
    "\n",
    "passengers.shape"
   ]
  },
  {
   "cell_type": "markdown",
   "id": "ba60149c",
   "metadata": {
    "id": "ba60149c"
   },
   "source": [
    "The data set is already cleaned, no null values and with the appropriate column data types. Also, it contains information from 1949 to 1960, month by month. Now, let's see the time series graph."
   ]
  },
  {
   "cell_type": "code",
   "execution_count": 10,
   "id": "6ca82baf",
   "metadata": {
    "colab": {
     "base_uri": "https://localhost:8080/",
     "height": 418
    },
    "id": "6ca82baf",
    "outputId": "05431523-4685-403e-822f-18de734dbaf5"
   },
   "outputs": [
    {
     "data": {
      "image/png": "[encoded data removed]",
      "text/plain": [
       "<Figure size 1000x600 with 1 Axes>"
      ]
     },
     "metadata": {},
     "output_type": "display_data"
    }
   ],
   "source": [
    "# Plotting the number of passengers over time\n",
    "\n",
    "sns.lineplot(x=\"date\", y=\"passengers\", data=passengers)\n",
    "plt.title(\"Number of flight passengers over time\")\n",
    "plt.xlabel(\"Date\")\n",
    "plt.ylabel(\"Number of passengers\")\n",
    "plt.show()"
   ]
  },
  {
   "cell_type": "markdown",
   "id": "47251b83",
   "metadata": {
    "id": "47251b83"
   },
   "source": [
    "There is a clearly positive trend in the number of passengers over time due to the increase airplanes safety and tickets decrease and more destinations and airports that made travel by plane more affordable and popular."
   ]
  },
  {
   "cell_type": "markdown",
   "id": "5f43131a",
   "metadata": {
    "id": "5f43131a"
   },
   "source": [
    "Before we build the model, let's standardize the data set removing the mean and scaling to unit variance."
   ]
  },
  {
   "cell_type": "code",
   "execution_count": 11,
   "id": "5e16b299",
   "metadata": {
    "id": "5e16b299"
   },
   "outputs": [],
   "source": [
    "# instantiating the StandardScaler\n",
    "\n",
    "sc = StandardScaler()"
   ]
  },
  {
   "cell_type": "code",
   "execution_count": 12,
   "id": "75563766",
   "metadata": {
    "id": "75563766"
   },
   "outputs": [],
   "source": [
    "# Fitting and scaling the data\n",
    "\n",
    "sc.fit(passengers)\n",
    "scaled_passengers = sc.transform(passengers)"
   ]
  },
  {
   "cell_type": "code",
   "execution_count": 13,
   "id": "e0878430",
   "metadata": {
    "id": "e0878430"
   },
   "outputs": [],
   "source": [
    "# Splitting the data set into input and output\n",
    "\n",
    "X = scaled_passengers[:,0]\n",
    "y = scaled_passengers[:,1]"
   ]
  },
  {
   "cell_type": "code",
   "execution_count": 15,
   "id": "d6f606e9",
   "metadata": {},
   "outputs": [
    {
     "data": {
      "text/plain": [
       "array([[-1.72006415, -1.40777884],\n",
       "       [-1.69600731, -1.35759023],\n",
       "       [-1.67195047, -1.24048348],\n",
       "       [-1.64789363, -1.26557778],\n",
       "       [-1.62383679, -1.33249593],\n",
       "       [-1.59977995, -1.21538918],\n",
       "       [-1.5757231 , -1.10664719],\n",
       "       [-1.55166626, -1.10664719],\n",
       "       [-1.52760942, -1.20702441],\n",
       "       [-1.50355258, -1.34922546],\n",
       "       [-1.47949574, -1.47469699],\n",
       "       [-1.4554389 , -1.35759023],\n",
       "       [-1.43138206, -1.38268454],\n",
       "       [-1.40732522, -1.29067209],\n",
       "       [-1.38326837, -1.16520057],\n",
       "       [-1.35921153, -1.21538918],\n",
       "       [-1.33515469, -1.29903686],\n",
       "       [-1.31109785, -1.09828242],\n",
       "       [-1.28704101, -0.9226223 ],\n",
       "       [-1.26298417, -0.9226223 ],\n",
       "       [-1.23892733, -1.02299951],\n",
       "       [-1.21487049, -1.23211871],\n",
       "       [-1.19081364, -1.3910493 ],\n",
       "       [-1.1667568 , -1.17356534],\n",
       "       [-1.14269996, -1.1317415 ],\n",
       "       [-1.11864312, -1.08991766],\n",
       "       [-1.09458628, -0.85570415],\n",
       "       [-1.07052944, -0.98117567],\n",
       "       [-1.0464726 , -0.90589276],\n",
       "       [-1.02241576, -0.85570415],\n",
       "       [-0.99835891, -0.68004402],\n",
       "       [-0.97430207, -0.68004402],\n",
       "       [-0.95024523, -0.80551554],\n",
       "       [-0.92618839, -0.98954044],\n",
       "       [-0.90213155, -1.12337673],\n",
       "       [-0.87807471, -0.95608137],\n",
       "       [-0.85401787, -0.91425753],\n",
       "       [-0.82996102, -0.83897462],\n",
       "       [-0.80590418, -0.73023263],\n",
       "       [-0.78184734, -0.83060985],\n",
       "       [-0.7577905 , -0.81388031],\n",
       "       [-0.73373366, -0.52111343],\n",
       "       [-0.70967682, -0.42073621],\n",
       "       [-0.68561998, -0.320359  ],\n",
       "       [-0.66156314, -0.59639634],\n",
       "       [-0.63750629, -0.74696217],\n",
       "       [-0.61344945, -0.90589276],\n",
       "       [-0.58939261, -0.72186786],\n",
       "       [-0.56533577, -0.70513833],\n",
       "       [-0.54127893, -0.70513833],\n",
       "       [-0.51722209, -0.37054761],\n",
       "       [-0.49316525, -0.37891237],\n",
       "       [-0.46910841, -0.42910098],\n",
       "       [-0.44505156, -0.31199423],\n",
       "       [-0.42099472, -0.1363341 ],\n",
       "       [-0.39693788, -0.06941596],\n",
       "       [-0.37288104, -0.36218284],\n",
       "       [-0.3488242 , -0.57966681],\n",
       "       [-0.32476736, -0.83897462],\n",
       "       [-0.30071052, -0.66331449],\n",
       "       [-0.27665367, -0.63822018],\n",
       "       [-0.25259683, -0.77205647],\n",
       "       [-0.22853999, -0.37891237],\n",
       "       [-0.20448315, -0.44583052],\n",
       "       [-0.18042631, -0.38727714],\n",
       "       [-0.15636947, -0.1363341 ],\n",
       "       [-0.13231263,  0.18152708],\n",
       "       [-0.10825579,  0.10624417],\n",
       "       [-0.08419894, -0.17815794],\n",
       "       [-0.0601421 , -0.42910098],\n",
       "       [-0.03608526, -0.64658495],\n",
       "       [-0.01202842, -0.42910098],\n",
       "       [ 0.01202842, -0.320359  ],\n",
       "       [ 0.03608526, -0.39564191],\n",
       "       [ 0.0601421 , -0.1112398 ],\n",
       "       [ 0.08419894, -0.09451026],\n",
       "       [ 0.10825579, -0.08614549],\n",
       "       [ 0.13231263,  0.29026907],\n",
       "       [ 0.15636947,  0.7001427 ],\n",
       "       [ 0.18042631,  0.55794164],\n",
       "       [ 0.20448315,  0.26517476],\n",
       "       [ 0.22853999, -0.05268642],\n",
       "       [ 0.25259683, -0.36218284],\n",
       "       [ 0.27665367, -0.01922735],\n",
       "       [ 0.30071052,  0.03096126],\n",
       "       [ 0.32476736, -0.02759212],\n",
       "       [ 0.3488242 ,  0.3069986 ],\n",
       "       [ 0.37288104,  0.27353953],\n",
       "       [ 0.39693788,  0.31536337],\n",
       "       [ 0.42099472,  0.78379038],\n",
       "       [ 0.44505156,  1.11001633],\n",
       "       [ 0.46910841,  1.04309819],\n",
       "       [ 0.49316525,  0.62485979],\n",
       "       [ 0.51722209,  0.21498616],\n",
       "       [ 0.54127893, -0.07778072],\n",
       "       [ 0.56533577,  0.21498616],\n",
       "       [ 0.58939261,  0.29026907],\n",
       "       [ 0.61344945,  0.17316232],\n",
       "       [ 0.63750629,  0.63322456],\n",
       "       [ 0.66156314,  0.56630641],\n",
       "       [ 0.68561998,  0.62485979],\n",
       "       [ 0.70967682,  1.18529925],\n",
       "       [ 0.73373366,  1.54498427],\n",
       "       [ 0.7577905 ,  1.56171381],\n",
       "       [ 0.78184734,  1.03473342],\n",
       "       [ 0.80590418,  0.55794164],\n",
       "       [ 0.82996102,  0.20662139],\n",
       "       [ 0.85401787,  0.4659292 ],\n",
       "       [ 0.87807471,  0.49938827],\n",
       "       [ 0.90213155,  0.31536337],\n",
       "       [ 0.92618839,  0.68341317],\n",
       "       [ 0.95024523,  0.56630641],\n",
       "       [ 0.97430207,  0.69177793],\n",
       "       [ 0.99835891,  1.29404123],\n",
       "       [ 1.02241576,  1.76246824],\n",
       "       [ 1.0464726 ,  1.87957499],\n",
       "       [ 1.07052944,  1.03473342],\n",
       "       [ 1.09458628,  0.65831886],\n",
       "       [ 1.11864312,  0.24844523],\n",
       "       [ 1.14269996,  0.47429396],\n",
       "       [ 1.1667568 ,  0.66668363],\n",
       "       [ 1.19081364,  0.5161178 ],\n",
       "       [ 1.21487049,  1.05146296],\n",
       "       [ 1.23892733,  0.96781528],\n",
       "       [ 1.26298417,  1.16856971],\n",
       "       [ 1.28704101,  1.60353765],\n",
       "       [ 1.31109785,  2.23926002],\n",
       "       [ 1.33515469,  2.33127247],\n",
       "       [ 1.35921153,  1.52825474],\n",
       "       [ 1.38326837,  1.05982773],\n",
       "       [ 1.40732522,  0.68341317],\n",
       "       [ 1.43138206,  1.04309819],\n",
       "       [ 1.4554389 ,  1.14347541],\n",
       "       [ 1.47949574,  0.92599144],\n",
       "       [ 1.50355258,  1.16020494],\n",
       "       [ 1.52760942,  1.5115252 ],\n",
       "       [ 1.55166626,  1.60353765],\n",
       "       [ 1.5757231 ,  2.13051803],\n",
       "       [ 1.59977995,  2.85825285],\n",
       "       [ 1.62383679,  2.72441656],\n",
       "       [ 1.64789363,  1.9046693 ],\n",
       "       [ 1.67195047,  1.5115252 ],\n",
       "       [ 1.69600731,  0.91762667],\n",
       "       [ 1.72006415,  1.26894693]])"
      ]
     },
     "execution_count": 15,
     "metadata": {},
     "output_type": "execute_result"
    }
   ],
   "source": [
    "scaled_passengers # Tirar depois"
   ]
  },
  {
   "cell_type": "code",
   "execution_count": 16,
   "id": "f7f5a88b",
   "metadata": {
    "id": "f7f5a88b"
   },
   "outputs": [],
   "source": [
    "# Splitting the data into training and test sets\n",
    "\n",
    "training_size = int(len(passengers)*0.9)\n",
    "test_size = len(passengers)-training_size\n",
    "\n",
    "X_train, X_test = X[0:training_size], X[training_size:len(passengers)]\n",
    "y_train, y_test = y[0:training_size], y[training_size:len(passengers)]"
   ]
  },
  {
   "cell_type": "markdown",
   "id": "85c31779",
   "metadata": {
    "id": "85c31779"
   },
   "source": [
    "Let's check the time series of the training and test sets."
   ]
  },
  {
   "cell_type": "code",
   "execution_count": 59,
   "id": "2bf9682b",
   "metadata": {
    "colab": {
     "base_uri": "https://localhost:8080/",
     "height": 418
    },
    "id": "2bf9682b",
    "outputId": "2de8110b-e866-4d56-cfa4-c1d97e5e271c"
   },
   "outputs": [
    {
     "data": {
      "image/png": "[encoded data removed]",
      "text/plain": [
       "<Figure size 720x432 with 1 Axes>"
      ]
     },
     "metadata": {
      "needs_background": "light"
     },
     "output_type": "display_data"
    }
   ],
   "source": [
    "# Plotting the training and test sets\n",
    "\n",
    "sns.lineplot(x=X_train, y=y_train, label=\"Training set\")\n",
    "sns.lineplot(x=X_test, y=y_test, label=\"Test set\")\n",
    "plt.title(\"Number of flight passengers over time (standardized)\")\n",
    "plt.xlabel(\"Date\")\n",
    "plt.ylabel(\"Number of passengers\")\n",
    "plt.show()"
   ]
  },
  {
   "cell_type": "markdown",
   "id": "yPLx73j1Bgr8",
   "metadata": {
    "id": "yPLx73j1Bgr8"
   },
   "source": [
    "# Model building"
   ]
  },
  {
   "cell_type": "markdown",
   "id": "ZL51AIJsBjyR",
   "metadata": {
    "id": "ZL51AIJsBjyR"
   },
   "source": [
    "# Colocar aqui a explicação de regressão linear e redes neurais e explicar os passos que colocamos aqui"
   ]
  },
  {
   "cell_type": "code",
   "execution_count": 60,
   "id": "fac4472c",
   "metadata": {
    "id": "fac4472c"
   },
   "outputs": [],
   "source": [
    "# Building the first linear model\n",
    "\n",
    "linear_model = Sequential()\n",
    "\n",
    "linear_model.add(Dense(1, input_dim=1, kernel_initializer = \"Ones\", activation = \"linear\", use_bias=False))"
   ]
  },
  {
   "cell_type": "code",
   "execution_count": 61,
   "id": "d44adc29",
   "metadata": {
    "id": "d44adc29"
   },
   "outputs": [],
   "source": [
    "# Compiling the model\n",
    "\n",
    "linear_model.compile(loss=\"mean_squared_error\", optimizer = \"adam\")"
   ]
  },
  {
   "cell_type": "code",
   "execution_count": 62,
   "id": "e554da56",
   "metadata": {
    "colab": {
     "base_uri": "https://localhost:8080/"
    },
    "id": "e554da56",
    "outputId": "b645ce27-de38-4708-9dec-efda2e16772a"
   },
   "outputs": [
    {
     "name": "stdout",
     "output_type": "stream",
     "text": [
      "Model: \"sequential_4\"\n",
      "_________________________________________________________________\n",
      " Layer (type)                Output Shape              Param #   \n",
      "=================================================================\n",
      " dense_10 (Dense)            (None, 1)                 1         \n",
      "                                                                 \n",
      "=================================================================\n",
      "Total params: 1\n",
      "Trainable params: 1\n",
      "Non-trainable params: 0\n",
      "_________________________________________________________________\n"
     ]
    }
   ],
   "source": [
    "# Checking the model summary\n",
    "\n",
    "linear_model.summary()"
   ]
  },
  {
   "cell_type": "markdown",
   "id": "52vk-06FD2-E",
   "metadata": {
    "id": "52vk-06FD2-E"
   },
   "source": [
    "The only parameter of the model is the weights that they were initialized as 1.\n",
    "\n",
    "Now, let's train and test the neural network model."
   ]
  },
  {
   "cell_type": "code",
   "execution_count": 63,
   "id": "b803fbf4",
   "metadata": {
    "colab": {
     "base_uri": "https://localhost:8080/"
    },
    "id": "b803fbf4",
    "outputId": "0703dc64-6df6-43ed-e380-3148f7198bdf"
   },
   "outputs": [
    {
     "name": "stdout",
     "output_type": "stream",
     "text": [
      "5/5 [==============================] - 0s 3ms/step - loss: 0.1285\n"
     ]
    },
    {
     "data": {
      "text/plain": [
       "<keras.callbacks.History at 0x7fb2813ca370>"
      ]
     },
     "execution_count": 63,
     "metadata": {},
     "output_type": "execute_result"
    }
   ],
   "source": [
    "# Training the model\n",
    "\n",
    "linear_model.fit(X_train, y_train)"
   ]
  },
  {
   "cell_type": "code",
   "execution_count": 64,
   "id": "5bVi8UTXEWto",
   "metadata": {
    "colab": {
     "base_uri": "https://localhost:8080/"
    },
    "id": "5bVi8UTXEWto",
    "outputId": "55ac4008-f643-4b36-ad4d-7cc51d510855"
   },
   "outputs": [
    {
     "name": "stdout",
     "output_type": "stream",
     "text": [
      "5/5 [==============================] - 0s 3ms/step\n",
      "1/1 [==============================] - 0s 18ms/step\n"
     ]
    }
   ],
   "source": [
    "# Testing the model\n",
    "\n",
    "y_predict = linear_model.predict(X_train)\n",
    "y_predict_test = linear_model.predict(X_test)"
   ]
  },
  {
   "cell_type": "markdown",
   "id": "EkAn5PQOF3fd",
   "metadata": {
    "id": "EkAn5PQOF3fd"
   },
   "source": [
    "Before plotting the model predictions, let's redo the standardized data."
   ]
  },
  {
   "cell_type": "code",
   "execution_count": 65,
   "id": "MKf0lywFGCF8",
   "metadata": {
    "id": "MKf0lywFGCF8"
   },
   "outputs": [],
   "source": [
    "# Redo the scaling\n",
    "\n",
    "df_training_fit = inverse_scaling(X_train, y_predict, \"date\", \"passengers\")\n",
    "df_test_pred = inverse_scaling(X_test, y_predict_test, \"date\", \"passengers\")"
   ]
  },
  {
   "cell_type": "code",
   "execution_count": 66,
   "id": "NAixFwH9EWrm",
   "metadata": {
    "colab": {
     "base_uri": "https://localhost:8080/",
     "height": 435
    },
    "id": "NAixFwH9EWrm",
    "outputId": "d3a2c64c-44fc-4290-8980-06a7ecfc7db4"
   },
   "outputs": [
    {
     "data": {
      "text/plain": [
       "Text(0.5, 1.0, 'Number of passengers over time predictions')"
      ]
     },
     "execution_count": 66,
     "metadata": {},
     "output_type": "execute_result"
    },
    {
     "data": {
      "image/png": "[encoded data removed]",
      "text/plain": [
       "<Figure size 720x432 with 1 Axes>"
      ]
     },
     "metadata": {
      "needs_background": "light"
     },
     "output_type": "display_data"
    }
   ],
   "source": [
    "# Plotting the predictions and the true values\n",
    "\n",
    "sns.lineplot(x=\"date\", y=\"passengers\", data=passengers, label=\"Observed data\")\n",
    "sns.lineplot(x=\"date\", y=\"passengers\", data=df_training_fit, label=\"Training set fit\")\n",
    "sns.lineplot(x=\"date\", y=\"passengers\", data = df_test_pred, label=\"Predictions\")\n",
    "plt.ylabel(\"Passengers\")\n",
    "plt.xlabel(\"Date\")\n",
    "plt.title(\"Number of passengers over time predictions\")"
   ]
  },
  {
   "cell_type": "markdown",
   "id": "9nI4qVW_qPeg",
   "metadata": {
    "id": "9nI4qVW_qPeg"
   },
   "source": [
    "The neural network is following the training set fit trend. But the linear model is not a good option for this problem. Let's add more hidden layers to the model and use the sigmoid function as the activation function."
   ]
  },
  {
   "cell_type": "markdown",
   "id": "3Ie4cx8J1XR3",
   "metadata": {
    "id": "3Ie4cx8J1XR3"
   },
   "source": [
    "--- "
   ]
  },
  {
   "cell_type": "markdown",
   "id": "lOxDX-5s1YiG",
   "metadata": {
    "id": "lOxDX-5s1YiG"
   },
   "source": [
    "# Sigmoid funcion"
   ]
  },
  {
   "cell_type": "markdown",
   "id": "U8SPHJs81SZX",
   "metadata": {
    "id": "U8SPHJs81SZX"
   },
   "source": [
    "# EXPLICAR AQUI O QUE É SIGMOID FUNCTION"
   ]
  },
  {
   "cell_type": "code",
   "execution_count": 67,
   "id": "5-si05CeEWln",
   "metadata": {
    "id": "5-si05CeEWln"
   },
   "outputs": [],
   "source": [
    "# Building the sigmoid model\n",
    "\n",
    "sigmoid_model = Sequential()\n",
    "\n",
    "sigmoid_model.add(Dense(8, input_dim=1,\n",
    "                              kernel_initializer = \"random_uniform\",\n",
    "                              activation = \"sigmoid\", use_bias=False))\n",
    "sigmoid_model.add(Dense(8, kernel_initializer = \"random_uniform\",\n",
    "                              activation = \"sigmoid\", use_bias=False))\n",
    "sigmoid_model.add(Dense(1, kernel_initializer = \"random_uniform\",\n",
    "                              activation = \"linear\", use_bias=False))"
   ]
  },
  {
   "cell_type": "code",
   "execution_count": 68,
   "id": "BY_Q6kLXEWic",
   "metadata": {
    "id": "BY_Q6kLXEWic"
   },
   "outputs": [],
   "source": [
    "# Compiling the model\n",
    "\n",
    "sigmoid_model.compile(loss=\"mean_squared_error\", optimizer = \"adam\")"
   ]
  },
  {
   "cell_type": "code",
   "execution_count": 69,
   "id": "1IGSe9e1EWf0",
   "metadata": {
    "colab": {
     "base_uri": "https://localhost:8080/"
    },
    "id": "1IGSe9e1EWf0",
    "outputId": "d702a2be-abdb-492d-a8b6-fe0a3fda7a05"
   },
   "outputs": [
    {
     "name": "stdout",
     "output_type": "stream",
     "text": [
      "Model: \"sequential_5\"\n",
      "_________________________________________________________________\n",
      " Layer (type)                Output Shape              Param #   \n",
      "=================================================================\n",
      " dense_11 (Dense)            (None, 8)                 8         \n",
      "                                                                 \n",
      " dense_12 (Dense)            (None, 8)                 64        \n",
      "                                                                 \n",
      " dense_13 (Dense)            (None, 1)                 8         \n",
      "                                                                 \n",
      "=================================================================\n",
      "Total params: 80\n",
      "Trainable params: 80\n",
      "Non-trainable params: 0\n",
      "_________________________________________________________________\n"
     ]
    }
   ],
   "source": [
    "# Checking the model summary\n",
    "\n",
    "sigmoid_model.summary()"
   ]
  },
  {
   "cell_type": "markdown",
   "id": "gX-kFH63zX6e",
   "metadata": {
    "id": "gX-kFH63zX6e"
   },
   "source": [
    "Due to the second hidden layer added, the number of trainable parameters increase from 1 to 80. Thus, this neural network is more complex and, in theory, can have a better perfomance fitting the data. Let's train and test the model and then, make the predictions."
   ]
  },
  {
   "cell_type": "code",
   "execution_count": 70,
   "id": "vgpykpV3EWdJ",
   "metadata": {
    "colab": {
     "base_uri": "https://localhost:8080/"
    },
    "id": "vgpykpV3EWdJ",
    "outputId": "5191efb0-7f5c-4fdd-aaf4-7a58e4ff1764"
   },
   "outputs": [
    {
     "name": "stdout",
     "output_type": "stream",
     "text": [
      "Epoch 1/500\n",
      "5/5 [==============================] - 0s 3ms/step - loss: 0.8058\n",
      "Epoch 2/500\n",
      "5/5 [==============================] - 0s 3ms/step - loss: 0.8006\n",
      "Epoch 3/500\n",
      "5/5 [==============================] - 0s 3ms/step - loss: 0.7952\n",
      "Epoch 4/500\n",
      "5/5 [==============================] - 0s 3ms/step - loss: 0.7928\n",
      "Epoch 5/500\n",
      "5/5 [==============================] - 0s 5ms/step - loss: 0.7915\n",
      "Epoch 6/500\n",
      "5/5 [==============================] - 0s 2ms/step - loss: 0.7910\n",
      "Epoch 7/500\n",
      "5/5 [==============================] - 0s 3ms/step - loss: 0.7912\n",
      "Epoch 8/500\n",
      "5/5 [==============================] - 0s 3ms/step - loss: 0.7921\n",
      "Epoch 9/500\n",
      "5/5 [==============================] - 0s 3ms/step - loss: 0.7925\n",
      "Epoch 10/500\n",
      "5/5 [==============================] - 0s 2ms/step - loss: 0.7927\n",
      "Epoch 11/500\n",
      "5/5 [==============================] - 0s 2ms/step - loss: 0.7910\n",
      "Epoch 12/500\n",
      "5/5 [==============================] - 0s 3ms/step - loss: 0.7898\n",
      "Epoch 13/500\n",
      "5/5 [==============================] - 0s 3ms/step - loss: 0.7882\n",
      "Epoch 14/500\n",
      "5/5 [==============================] - 0s 3ms/step - loss: 0.7865\n",
      "Epoch 15/500\n",
      "5/5 [==============================] - 0s 2ms/step - loss: 0.7856\n",
      "Epoch 16/500\n",
      "5/5 [==============================] - 0s 5ms/step - loss: 0.7854\n",
      "Epoch 17/500\n",
      "5/5 [==============================] - 0s 3ms/step - loss: 0.7852\n",
      "Epoch 18/500\n",
      "5/5 [==============================] - 0s 3ms/step - loss: 0.7845\n",
      "Epoch 19/500\n",
      "5/5 [==============================] - 0s 3ms/step - loss: 0.7849\n",
      "Epoch 20/500\n",
      "5/5 [==============================] - 0s 3ms/step - loss: 0.7850\n",
      "Epoch 21/500\n",
      "5/5 [==============================] - 0s 3ms/step - loss: 0.7846\n",
      "Epoch 22/500\n",
      "5/5 [==============================] - 0s 3ms/step - loss: 0.7845\n",
      "Epoch 23/500\n",
      "5/5 [==============================] - 0s 2ms/step - loss: 0.7846\n",
      "Epoch 24/500\n",
      "5/5 [==============================] - 0s 3ms/step - loss: 0.7846\n",
      "Epoch 25/500\n",
      "5/5 [==============================] - 0s 2ms/step - loss: 0.7843\n",
      "Epoch 26/500\n",
      "5/5 [==============================] - 0s 3ms/step - loss: 0.7840\n",
      "Epoch 27/500\n",
      "5/5 [==============================] - 0s 2ms/step - loss: 0.7832\n",
      "Epoch 28/500\n",
      "5/5 [==============================] - 0s 3ms/step - loss: 0.7823\n",
      "Epoch 29/500\n",
      "5/5 [==============================] - 0s 3ms/step - loss: 0.7818\n",
      "Epoch 30/500\n",
      "5/5 [==============================] - 0s 3ms/step - loss: 0.7815\n",
      "Epoch 31/500\n",
      "5/5 [==============================] - 0s 3ms/step - loss: 0.7806\n",
      "Epoch 32/500\n",
      "5/5 [==============================] - 0s 3ms/step - loss: 0.7804\n",
      "Epoch 33/500\n",
      "5/5 [==============================] - 0s 3ms/step - loss: 0.7802\n",
      "Epoch 34/500\n",
      "5/5 [==============================] - 0s 3ms/step - loss: 0.7802\n",
      "Epoch 35/500\n",
      "5/5 [==============================] - 0s 3ms/step - loss: 0.7801\n",
      "Epoch 36/500\n",
      "5/5 [==============================] - 0s 2ms/step - loss: 0.7792\n",
      "Epoch 37/500\n",
      "5/5 [==============================] - 0s 2ms/step - loss: 0.7789\n",
      "Epoch 38/500\n",
      "5/5 [==============================] - 0s 3ms/step - loss: 0.7788\n",
      "Epoch 39/500\n",
      "5/5 [==============================] - 0s 3ms/step - loss: 0.7783\n",
      "Epoch 40/500\n",
      "5/5 [==============================] - 0s 3ms/step - loss: 0.7782\n",
      "Epoch 41/500\n",
      "5/5 [==============================] - 0s 2ms/step - loss: 0.7780\n",
      "Epoch 42/500\n",
      "5/5 [==============================] - 0s 2ms/step - loss: 0.7783\n",
      "Epoch 43/500\n",
      "5/5 [==============================] - 0s 3ms/step - loss: 0.7775\n",
      "Epoch 44/500\n",
      "5/5 [==============================] - 0s 3ms/step - loss: 0.7774\n",
      "Epoch 45/500\n",
      "5/5 [==============================] - 0s 3ms/step - loss: 0.7774\n",
      "Epoch 46/500\n",
      "5/5 [==============================] - 0s 3ms/step - loss: 0.7773\n",
      "Epoch 47/500\n",
      "5/5 [==============================] - 0s 3ms/step - loss: 0.7771\n",
      "Epoch 48/500\n",
      "5/5 [==============================] - 0s 3ms/step - loss: 0.7778\n",
      "Epoch 49/500\n",
      "5/5 [==============================] - 0s 4ms/step - loss: 0.7774\n",
      "Epoch 50/500\n",
      "5/5 [==============================] - 0s 3ms/step - loss: 0.7774\n",
      "Epoch 51/500\n",
      "5/5 [==============================] - 0s 3ms/step - loss: 0.7776\n",
      "Epoch 52/500\n",
      "5/5 [==============================] - 0s 3ms/step - loss: 0.7769\n",
      "Epoch 53/500\n",
      "5/5 [==============================] - 0s 3ms/step - loss: 0.7766\n",
      "Epoch 54/500\n",
      "5/5 [==============================] - 0s 3ms/step - loss: 0.7764\n",
      "Epoch 55/500\n",
      "5/5 [==============================] - 0s 3ms/step - loss: 0.7767\n",
      "Epoch 56/500\n",
      "5/5 [==============================] - 0s 2ms/step - loss: 0.7768\n",
      "Epoch 57/500\n",
      "5/5 [==============================] - 0s 3ms/step - loss: 0.7763\n",
      "Epoch 58/500\n",
      "5/5 [==============================] - 0s 3ms/step - loss: 0.7762\n",
      "Epoch 59/500\n",
      "5/5 [==============================] - 0s 3ms/step - loss: 0.7760\n",
      "Epoch 60/500\n",
      "5/5 [==============================] - 0s 3ms/step - loss: 0.7755\n",
      "Epoch 61/500\n",
      "5/5 [==============================] - 0s 2ms/step - loss: 0.7755\n",
      "Epoch 62/500\n",
      "5/5 [==============================] - 0s 3ms/step - loss: 0.7748\n",
      "Epoch 63/500\n",
      "5/5 [==============================] - 0s 3ms/step - loss: 0.7747\n",
      "Epoch 64/500\n",
      "5/5 [==============================] - 0s 3ms/step - loss: 0.7745\n",
      "Epoch 65/500\n",
      "5/5 [==============================] - 0s 3ms/step - loss: 0.7748\n",
      "Epoch 66/500\n",
      "5/5 [==============================] - 0s 3ms/step - loss: 0.7745\n",
      "Epoch 67/500\n",
      "5/5 [==============================] - 0s 4ms/step - loss: 0.7742\n",
      "Epoch 68/500\n",
      "5/5 [==============================] - 0s 3ms/step - loss: 0.7739\n",
      "Epoch 69/500\n",
      "5/5 [==============================] - 0s 3ms/step - loss: 0.7733\n",
      "Epoch 70/500\n",
      "5/5 [==============================] - 0s 2ms/step - loss: 0.7728\n",
      "Epoch 71/500\n",
      "5/5 [==============================] - 0s 2ms/step - loss: 0.7728\n",
      "Epoch 72/500\n",
      "5/5 [==============================] - 0s 3ms/step - loss: 0.7722\n",
      "Epoch 73/500\n",
      "5/5 [==============================] - 0s 3ms/step - loss: 0.7720\n",
      "Epoch 74/500\n",
      "5/5 [==============================] - 0s 3ms/step - loss: 0.7718\n",
      "Epoch 75/500\n",
      "5/5 [==============================] - 0s 3ms/step - loss: 0.7717\n",
      "Epoch 76/500\n",
      "5/5 [==============================] - 0s 3ms/step - loss: 0.7714\n",
      "Epoch 77/500\n",
      "5/5 [==============================] - 0s 3ms/step - loss: 0.7708\n",
      "Epoch 78/500\n",
      "5/5 [==============================] - 0s 3ms/step - loss: 0.7704\n",
      "Epoch 79/500\n",
      "5/5 [==============================] - 0s 3ms/step - loss: 0.7699\n",
      "Epoch 80/500\n",
      "5/5 [==============================] - 0s 3ms/step - loss: 0.7699\n",
      "Epoch 81/500\n",
      "5/5 [==============================] - 0s 2ms/step - loss: 0.7690\n",
      "Epoch 82/500\n",
      "5/5 [==============================] - 0s 3ms/step - loss: 0.7683\n",
      "Epoch 83/500\n",
      "5/5 [==============================] - 0s 3ms/step - loss: 0.7679\n",
      "Epoch 84/500\n",
      "5/5 [==============================] - 0s 3ms/step - loss: 0.7674\n",
      "Epoch 85/500\n",
      "5/5 [==============================] - 0s 4ms/step - loss: 0.7669\n",
      "Epoch 86/500\n",
      "5/5 [==============================] - 0s 3ms/step - loss: 0.7665\n",
      "Epoch 87/500\n",
      "5/5 [==============================] - 0s 3ms/step - loss: 0.7659\n",
      "Epoch 88/500\n",
      "5/5 [==============================] - 0s 2ms/step - loss: 0.7653\n",
      "Epoch 89/500\n",
      "5/5 [==============================] - 0s 2ms/step - loss: 0.7648\n",
      "Epoch 90/500\n",
      "5/5 [==============================] - 0s 2ms/step - loss: 0.7642\n",
      "Epoch 91/500\n",
      "5/5 [==============================] - 0s 3ms/step - loss: 0.7632\n",
      "Epoch 92/500\n",
      "5/5 [==============================] - 0s 3ms/step - loss: 0.7629\n",
      "Epoch 93/500\n",
      "5/5 [==============================] - 0s 3ms/step - loss: 0.7624\n",
      "Epoch 94/500\n",
      "5/5 [==============================] - 0s 3ms/step - loss: 0.7617\n",
      "Epoch 95/500\n",
      "5/5 [==============================] - 0s 3ms/step - loss: 0.7614\n",
      "Epoch 96/500\n",
      "5/5 [==============================] - 0s 3ms/step - loss: 0.7604\n",
      "Epoch 97/500\n",
      "5/5 [==============================] - 0s 3ms/step - loss: 0.7593\n",
      "Epoch 98/500\n",
      "5/5 [==============================] - 0s 3ms/step - loss: 0.7580\n",
      "Epoch 99/500\n",
      "5/5 [==============================] - 0s 2ms/step - loss: 0.7566\n",
      "Epoch 100/500\n",
      "5/5 [==============================] - 0s 2ms/step - loss: 0.7564\n",
      "Epoch 101/500\n",
      "5/5 [==============================] - 0s 3ms/step - loss: 0.7555\n",
      "Epoch 102/500\n",
      "5/5 [==============================] - 0s 2ms/step - loss: 0.7547\n",
      "Epoch 103/500\n",
      "5/5 [==============================] - 0s 2ms/step - loss: 0.7534\n",
      "Epoch 104/500\n",
      "5/5 [==============================] - 0s 2ms/step - loss: 0.7523\n",
      "Epoch 105/500\n",
      "5/5 [==============================] - 0s 3ms/step - loss: 0.7511\n",
      "Epoch 106/500\n",
      "5/5 [==============================] - 0s 3ms/step - loss: 0.7497\n",
      "Epoch 107/500\n",
      "5/5 [==============================] - 0s 3ms/step - loss: 0.7485\n",
      "Epoch 108/500\n",
      "5/5 [==============================] - 0s 3ms/step - loss: 0.7473\n",
      "Epoch 109/500\n",
      "5/5 [==============================] - 0s 5ms/step - loss: 0.7461\n",
      "Epoch 110/500\n",
      "5/5 [==============================] - 0s 3ms/step - loss: 0.7453\n",
      "Epoch 111/500\n",
      "5/5 [==============================] - 0s 3ms/step - loss: 0.7434\n",
      "Epoch 112/500\n",
      "5/5 [==============================] - 0s 3ms/step - loss: 0.7415\n",
      "Epoch 113/500\n",
      "5/5 [==============================] - 0s 2ms/step - loss: 0.7400\n",
      "Epoch 114/500\n",
      "5/5 [==============================] - 0s 3ms/step - loss: 0.7383\n",
      "Epoch 115/500\n",
      "5/5 [==============================] - 0s 3ms/step - loss: 0.7367\n",
      "Epoch 116/500\n",
      "5/5 [==============================] - 0s 3ms/step - loss: 0.7351\n",
      "Epoch 117/500\n",
      "5/5 [==============================] - 0s 3ms/step - loss: 0.7334\n",
      "Epoch 118/500\n",
      "5/5 [==============================] - 0s 3ms/step - loss: 0.7318\n",
      "Epoch 119/500\n",
      "5/5 [==============================] - 0s 3ms/step - loss: 0.7300\n",
      "Epoch 120/500\n",
      "5/5 [==============================] - 0s 4ms/step - loss: 0.7279\n",
      "Epoch 121/500\n",
      "5/5 [==============================] - 0s 3ms/step - loss: 0.7259\n",
      "Epoch 122/500\n",
      "5/5 [==============================] - 0s 3ms/step - loss: 0.7238\n",
      "Epoch 123/500\n",
      "5/5 [==============================] - 0s 3ms/step - loss: 0.7215\n",
      "Epoch 124/500\n",
      "5/5 [==============================] - 0s 3ms/step - loss: 0.7194\n",
      "Epoch 125/500\n",
      "5/5 [==============================] - 0s 3ms/step - loss: 0.7170\n",
      "Epoch 126/500\n",
      "5/5 [==============================] - 0s 3ms/step - loss: 0.7147\n",
      "Epoch 127/500\n",
      "5/5 [==============================] - 0s 3ms/step - loss: 0.7123\n",
      "Epoch 128/500\n",
      "5/5 [==============================] - 0s 3ms/step - loss: 0.7103\n",
      "Epoch 129/500\n",
      "5/5 [==============================] - 0s 2ms/step - loss: 0.7080\n",
      "Epoch 130/500\n",
      "5/5 [==============================] - 0s 2ms/step - loss: 0.7064\n",
      "Epoch 131/500\n",
      "5/5 [==============================] - 0s 3ms/step - loss: 0.7038\n",
      "Epoch 132/500\n",
      "5/5 [==============================] - 0s 3ms/step - loss: 0.7011\n",
      "Epoch 133/500\n",
      "5/5 [==============================] - 0s 3ms/step - loss: 0.6980\n",
      "Epoch 134/500\n",
      "5/5 [==============================] - 0s 2ms/step - loss: 0.6957\n",
      "Epoch 135/500\n",
      "5/5 [==============================] - 0s 3ms/step - loss: 0.6925\n",
      "Epoch 136/500\n",
      "5/5 [==============================] - 0s 3ms/step - loss: 0.6888\n",
      "Epoch 137/500\n",
      "5/5 [==============================] - 0s 3ms/step - loss: 0.6855\n",
      "Epoch 138/500\n",
      "5/5 [==============================] - 0s 3ms/step - loss: 0.6821\n",
      "Epoch 139/500\n",
      "5/5 [==============================] - 0s 3ms/step - loss: 0.6781\n",
      "Epoch 140/500\n",
      "5/5 [==============================] - 0s 2ms/step - loss: 0.6739\n",
      "Epoch 141/500\n",
      "5/5 [==============================] - 0s 3ms/step - loss: 0.6701\n",
      "Epoch 142/500\n",
      "5/5 [==============================] - 0s 3ms/step - loss: 0.6655\n",
      "Epoch 143/500\n",
      "5/5 [==============================] - 0s 3ms/step - loss: 0.6606\n",
      "Epoch 144/500\n",
      "5/5 [==============================] - 0s 3ms/step - loss: 0.6561\n",
      "Epoch 145/500\n",
      "5/5 [==============================] - 0s 4ms/step - loss: 0.6516\n",
      "Epoch 146/500\n",
      "5/5 [==============================] - 0s 4ms/step - loss: 0.6462\n",
      "Epoch 147/500\n",
      "5/5 [==============================] - 0s 3ms/step - loss: 0.6407\n",
      "Epoch 148/500\n",
      "5/5 [==============================] - 0s 3ms/step - loss: 0.6358\n",
      "Epoch 149/500\n",
      "5/5 [==============================] - 0s 3ms/step - loss: 0.6309\n",
      "Epoch 150/500\n",
      "5/5 [==============================] - 0s 2ms/step - loss: 0.6257\n",
      "Epoch 151/500\n",
      "5/5 [==============================] - 0s 3ms/step - loss: 0.6207\n",
      "Epoch 152/500\n",
      "5/5 [==============================] - 0s 3ms/step - loss: 0.6149\n",
      "Epoch 153/500\n",
      "5/5 [==============================] - 0s 3ms/step - loss: 0.6092\n",
      "Epoch 154/500\n",
      "5/5 [==============================] - 0s 3ms/step - loss: 0.6041\n",
      "Epoch 155/500\n",
      "5/5 [==============================] - 0s 3ms/step - loss: 0.5985\n",
      "Epoch 156/500\n",
      "5/5 [==============================] - 0s 3ms/step - loss: 0.5929\n",
      "Epoch 157/500\n",
      "5/5 [==============================] - 0s 3ms/step - loss: 0.5869\n",
      "Epoch 158/500\n",
      "5/5 [==============================] - 0s 3ms/step - loss: 0.5807\n",
      "Epoch 159/500\n",
      "5/5 [==============================] - 0s 3ms/step - loss: 0.5745\n",
      "Epoch 160/500\n",
      "5/5 [==============================] - 0s 3ms/step - loss: 0.5674\n",
      "Epoch 161/500\n",
      "5/5 [==============================] - 0s 3ms/step - loss: 0.5605\n",
      "Epoch 162/500\n",
      "5/5 [==============================] - 0s 3ms/step - loss: 0.5536\n",
      "Epoch 163/500\n",
      "5/5 [==============================] - 0s 3ms/step - loss: 0.5463\n",
      "Epoch 164/500\n",
      "5/5 [==============================] - 0s 3ms/step - loss: 0.5386\n",
      "Epoch 165/500\n",
      "5/5 [==============================] - 0s 3ms/step - loss: 0.5316\n",
      "Epoch 166/500\n",
      "5/5 [==============================] - 0s 3ms/step - loss: 0.5246\n",
      "Epoch 167/500\n",
      "5/5 [==============================] - 0s 3ms/step - loss: 0.5177\n",
      "Epoch 168/500\n",
      "5/5 [==============================] - 0s 3ms/step - loss: 0.5103\n",
      "Epoch 169/500\n",
      "5/5 [==============================] - 0s 2ms/step - loss: 0.5031\n",
      "Epoch 170/500\n",
      "5/5 [==============================] - 0s 3ms/step - loss: 0.4963\n",
      "Epoch 171/500\n",
      "5/5 [==============================] - 0s 4ms/step - loss: 0.4894\n",
      "Epoch 172/500\n",
      "5/5 [==============================] - 0s 3ms/step - loss: 0.4826\n",
      "Epoch 173/500\n",
      "5/5 [==============================] - 0s 3ms/step - loss: 0.4757\n",
      "Epoch 174/500\n",
      "5/5 [==============================] - 0s 3ms/step - loss: 0.4689\n",
      "Epoch 175/500\n",
      "5/5 [==============================] - 0s 3ms/step - loss: 0.4624\n",
      "Epoch 176/500\n",
      "5/5 [==============================] - 0s 3ms/step - loss: 0.4559\n",
      "Epoch 177/500\n",
      "5/5 [==============================] - 0s 3ms/step - loss: 0.4493\n",
      "Epoch 178/500\n",
      "5/5 [==============================] - 0s 3ms/step - loss: 0.4423\n",
      "Epoch 179/500\n",
      "5/5 [==============================] - 0s 3ms/step - loss: 0.4339\n",
      "Epoch 180/500\n",
      "5/5 [==============================] - 0s 3ms/step - loss: 0.4259\n",
      "Epoch 181/500\n",
      "5/5 [==============================] - 0s 4ms/step - loss: 0.4186\n",
      "Epoch 182/500\n",
      "5/5 [==============================] - 0s 3ms/step - loss: 0.4115\n",
      "Epoch 183/500\n",
      "5/5 [==============================] - 0s 3ms/step - loss: 0.4045\n",
      "Epoch 184/500\n",
      "5/5 [==============================] - 0s 3ms/step - loss: 0.3978\n",
      "Epoch 185/500\n",
      "5/5 [==============================] - 0s 3ms/step - loss: 0.3914\n",
      "Epoch 186/500\n",
      "5/5 [==============================] - 0s 3ms/step - loss: 0.3850\n",
      "Epoch 187/500\n",
      "5/5 [==============================] - 0s 3ms/step - loss: 0.3788\n",
      "Epoch 188/500\n",
      "5/5 [==============================] - 0s 3ms/step - loss: 0.3729\n",
      "Epoch 189/500\n",
      "5/5 [==============================] - 0s 3ms/step - loss: 0.3661\n",
      "Epoch 190/500\n",
      "5/5 [==============================] - 0s 3ms/step - loss: 0.3602\n",
      "Epoch 191/500\n",
      "5/5 [==============================] - 0s 3ms/step - loss: 0.3544\n",
      "Epoch 192/500\n",
      "5/5 [==============================] - 0s 3ms/step - loss: 0.3482\n",
      "Epoch 193/500\n",
      "5/5 [==============================] - 0s 3ms/step - loss: 0.3409\n",
      "Epoch 194/500\n",
      "5/5 [==============================] - 0s 3ms/step - loss: 0.3352\n",
      "Epoch 195/500\n",
      "5/5 [==============================] - 0s 3ms/step - loss: 0.3291\n",
      "Epoch 196/500\n",
      "5/5 [==============================] - 0s 3ms/step - loss: 0.3235\n",
      "Epoch 197/500\n",
      "5/5 [==============================] - 0s 3ms/step - loss: 0.3186\n",
      "Epoch 198/500\n",
      "5/5 [==============================] - 0s 3ms/step - loss: 0.3129\n",
      "Epoch 199/500\n",
      "5/5 [==============================] - 0s 3ms/step - loss: 0.3072\n",
      "Epoch 200/500\n",
      "5/5 [==============================] - 0s 2ms/step - loss: 0.3019\n",
      "Epoch 201/500\n",
      "5/5 [==============================] - 0s 3ms/step - loss: 0.2953\n",
      "Epoch 202/500\n",
      "5/5 [==============================] - 0s 3ms/step - loss: 0.2880\n",
      "Epoch 203/500\n",
      "5/5 [==============================] - 0s 3ms/step - loss: 0.2817\n",
      "Epoch 204/500\n",
      "5/5 [==============================] - 0s 3ms/step - loss: 0.2766\n",
      "Epoch 205/500\n",
      "5/5 [==============================] - 0s 3ms/step - loss: 0.2717\n",
      "Epoch 206/500\n",
      "5/5 [==============================] - 0s 3ms/step - loss: 0.2666\n",
      "Epoch 207/500\n",
      "5/5 [==============================] - 0s 3ms/step - loss: 0.2620\n",
      "Epoch 208/500\n",
      "5/5 [==============================] - 0s 3ms/step - loss: 0.2574\n",
      "Epoch 209/500\n",
      "5/5 [==============================] - 0s 4ms/step - loss: 0.2536\n",
      "Epoch 210/500\n",
      "5/5 [==============================] - 0s 3ms/step - loss: 0.2495\n",
      "Epoch 211/500\n",
      "5/5 [==============================] - 0s 3ms/step - loss: 0.2454\n",
      "Epoch 212/500\n",
      "5/5 [==============================] - 0s 3ms/step - loss: 0.2402\n",
      "Epoch 213/500\n",
      "5/5 [==============================] - 0s 3ms/step - loss: 0.2350\n",
      "Epoch 214/500\n",
      "5/5 [==============================] - 0s 3ms/step - loss: 0.2301\n",
      "Epoch 215/500\n",
      "5/5 [==============================] - 0s 3ms/step - loss: 0.2260\n",
      "Epoch 216/500\n",
      "5/5 [==============================] - 0s 3ms/step - loss: 0.2222\n",
      "Epoch 217/500\n",
      "5/5 [==============================] - 0s 3ms/step - loss: 0.2185\n",
      "Epoch 218/500\n",
      "5/5 [==============================] - 0s 3ms/step - loss: 0.2152\n",
      "Epoch 219/500\n",
      "5/5 [==============================] - 0s 3ms/step - loss: 0.2120\n",
      "Epoch 220/500\n",
      "5/5 [==============================] - 0s 3ms/step - loss: 0.2093\n",
      "Epoch 221/500\n",
      "5/5 [==============================] - 0s 3ms/step - loss: 0.2066\n",
      "Epoch 222/500\n",
      "5/5 [==============================] - 0s 3ms/step - loss: 0.2040\n",
      "Epoch 223/500\n",
      "5/5 [==============================] - 0s 4ms/step - loss: 0.2013\n",
      "Epoch 224/500\n",
      "5/5 [==============================] - 0s 3ms/step - loss: 0.1976\n",
      "Epoch 225/500\n",
      "5/5 [==============================] - 0s 3ms/step - loss: 0.1948\n",
      "Epoch 226/500\n",
      "5/5 [==============================] - 0s 3ms/step - loss: 0.1924\n",
      "Epoch 227/500\n",
      "5/5 [==============================] - 0s 3ms/step - loss: 0.1899\n",
      "Epoch 228/500\n",
      "5/5 [==============================] - 0s 3ms/step - loss: 0.1876\n",
      "Epoch 229/500\n",
      "5/5 [==============================] - 0s 3ms/step - loss: 0.1856\n",
      "Epoch 230/500\n",
      "5/5 [==============================] - 0s 3ms/step - loss: 0.1836\n",
      "Epoch 231/500\n",
      "5/5 [==============================] - 0s 3ms/step - loss: 0.1820\n",
      "Epoch 232/500\n",
      "5/5 [==============================] - 0s 3ms/step - loss: 0.1800\n",
      "Epoch 233/500\n",
      "5/5 [==============================] - 0s 3ms/step - loss: 0.1784\n",
      "Epoch 234/500\n",
      "5/5 [==============================] - 0s 3ms/step - loss: 0.1763\n",
      "Epoch 235/500\n",
      "5/5 [==============================] - 0s 3ms/step - loss: 0.1744\n",
      "Epoch 236/500\n",
      "5/5 [==============================] - 0s 4ms/step - loss: 0.1728\n",
      "Epoch 237/500\n",
      "5/5 [==============================] - 0s 3ms/step - loss: 0.1712\n",
      "Epoch 238/500\n",
      "5/5 [==============================] - 0s 3ms/step - loss: 0.1699\n",
      "Epoch 239/500\n",
      "5/5 [==============================] - 0s 3ms/step - loss: 0.1687\n",
      "Epoch 240/500\n",
      "5/5 [==============================] - 0s 3ms/step - loss: 0.1676\n",
      "Epoch 241/500\n",
      "5/5 [==============================] - 0s 3ms/step - loss: 0.1663\n",
      "Epoch 242/500\n",
      "5/5 [==============================] - 0s 3ms/step - loss: 0.1652\n",
      "Epoch 243/500\n",
      "5/5 [==============================] - 0s 3ms/step - loss: 0.1641\n",
      "Epoch 244/500\n",
      "5/5 [==============================] - 0s 3ms/step - loss: 0.1629\n",
      "Epoch 245/500\n",
      "5/5 [==============================] - 0s 3ms/step - loss: 0.1619\n",
      "Epoch 246/500\n",
      "5/5 [==============================] - 0s 4ms/step - loss: 0.1607\n",
      "Epoch 247/500\n",
      "5/5 [==============================] - 0s 3ms/step - loss: 0.1596\n",
      "Epoch 248/500\n",
      "5/5 [==============================] - 0s 3ms/step - loss: 0.1586\n",
      "Epoch 249/500\n",
      "5/5 [==============================] - 0s 3ms/step - loss: 0.1578\n",
      "Epoch 250/500\n",
      "5/5 [==============================] - 0s 3ms/step - loss: 0.1570\n",
      "Epoch 251/500\n",
      "5/5 [==============================] - 0s 3ms/step - loss: 0.1560\n",
      "Epoch 252/500\n",
      "5/5 [==============================] - 0s 3ms/step - loss: 0.1552\n",
      "Epoch 253/500\n",
      "5/5 [==============================] - 0s 3ms/step - loss: 0.1539\n",
      "Epoch 254/500\n",
      "5/5 [==============================] - 0s 3ms/step - loss: 0.1526\n",
      "Epoch 255/500\n",
      "5/5 [==============================] - 0s 3ms/step - loss: 0.1511\n",
      "Epoch 256/500\n",
      "5/5 [==============================] - 0s 3ms/step - loss: 0.1503\n",
      "Epoch 257/500\n",
      "5/5 [==============================] - 0s 3ms/step - loss: 0.1494\n",
      "Epoch 258/500\n",
      "5/5 [==============================] - 0s 3ms/step - loss: 0.1489\n",
      "Epoch 259/500\n",
      "5/5 [==============================] - 0s 3ms/step - loss: 0.1484\n",
      "Epoch 260/500\n",
      "5/5 [==============================] - 0s 3ms/step - loss: 0.1478\n",
      "Epoch 261/500\n",
      "5/5 [==============================] - 0s 3ms/step - loss: 0.1473\n",
      "Epoch 262/500\n",
      "5/5 [==============================] - 0s 3ms/step - loss: 0.1469\n",
      "Epoch 263/500\n",
      "5/5 [==============================] - 0s 3ms/step - loss: 0.1463\n",
      "Epoch 264/500\n",
      "5/5 [==============================] - 0s 3ms/step - loss: 0.1455\n",
      "Epoch 265/500\n",
      "5/5 [==============================] - 0s 3ms/step - loss: 0.1450\n",
      "Epoch 266/500\n",
      "5/5 [==============================] - 0s 3ms/step - loss: 0.1444\n",
      "Epoch 267/500\n",
      "5/5 [==============================] - 0s 4ms/step - loss: 0.1445\n",
      "Epoch 268/500\n",
      "5/5 [==============================] - 0s 3ms/step - loss: 0.1443\n",
      "Epoch 269/500\n",
      "5/5 [==============================] - 0s 3ms/step - loss: 0.1436\n",
      "Epoch 270/500\n",
      "5/5 [==============================] - 0s 3ms/step - loss: 0.1430\n",
      "Epoch 271/500\n",
      "5/5 [==============================] - 0s 3ms/step - loss: 0.1424\n",
      "Epoch 272/500\n",
      "5/5 [==============================] - 0s 3ms/step - loss: 0.1417\n",
      "Epoch 273/500\n",
      "5/5 [==============================] - 0s 4ms/step - loss: 0.1409\n",
      "Epoch 274/500\n",
      "5/5 [==============================] - 0s 3ms/step - loss: 0.1403\n",
      "Epoch 275/500\n",
      "5/5 [==============================] - 0s 3ms/step - loss: 0.1398\n",
      "Epoch 276/500\n",
      "5/5 [==============================] - 0s 3ms/step - loss: 0.1395\n",
      "Epoch 277/500\n",
      "5/5 [==============================] - 0s 3ms/step - loss: 0.1391\n",
      "Epoch 278/500\n",
      "5/5 [==============================] - 0s 3ms/step - loss: 0.1389\n",
      "Epoch 279/500\n",
      "5/5 [==============================] - 0s 3ms/step - loss: 0.1389\n",
      "Epoch 280/500\n",
      "5/5 [==============================] - 0s 3ms/step - loss: 0.1389\n",
      "Epoch 281/500\n",
      "5/5 [==============================] - 0s 3ms/step - loss: 0.1389\n",
      "Epoch 282/500\n",
      "5/5 [==============================] - 0s 3ms/step - loss: 0.1387\n",
      "Epoch 283/500\n",
      "5/5 [==============================] - 0s 3ms/step - loss: 0.1386\n",
      "Epoch 284/500\n",
      "5/5 [==============================] - 0s 3ms/step - loss: 0.1384\n",
      "Epoch 285/500\n",
      "5/5 [==============================] - 0s 3ms/step - loss: 0.1383\n",
      "Epoch 286/500\n",
      "5/5 [==============================] - 0s 3ms/step - loss: 0.1381\n",
      "Epoch 287/500\n",
      "5/5 [==============================] - 0s 3ms/step - loss: 0.1378\n",
      "Epoch 288/500\n",
      "5/5 [==============================] - 0s 3ms/step - loss: 0.1376\n",
      "Epoch 289/500\n",
      "5/5 [==============================] - 0s 3ms/step - loss: 0.1372\n",
      "Epoch 290/500\n",
      "5/5 [==============================] - 0s 3ms/step - loss: 0.1371\n",
      "Epoch 291/500\n",
      "5/5 [==============================] - 0s 3ms/step - loss: 0.1369\n",
      "Epoch 292/500\n",
      "5/5 [==============================] - 0s 3ms/step - loss: 0.1369\n",
      "Epoch 293/500\n",
      "5/5 [==============================] - 0s 3ms/step - loss: 0.1368\n",
      "Epoch 294/500\n",
      "5/5 [==============================] - 0s 3ms/step - loss: 0.1367\n",
      "Epoch 295/500\n",
      "5/5 [==============================] - 0s 3ms/step - loss: 0.1366\n",
      "Epoch 296/500\n",
      "5/5 [==============================] - 0s 4ms/step - loss: 0.1365\n",
      "Epoch 297/500\n",
      "5/5 [==============================] - 0s 3ms/step - loss: 0.1364\n",
      "Epoch 298/500\n",
      "5/5 [==============================] - 0s 3ms/step - loss: 0.1364\n",
      "Epoch 299/500\n",
      "5/5 [==============================] - 0s 3ms/step - loss: 0.1363\n",
      "Epoch 300/500\n",
      "5/5 [==============================] - 0s 3ms/step - loss: 0.1363\n",
      "Epoch 301/500\n",
      "5/5 [==============================] - 0s 3ms/step - loss: 0.1361\n",
      "Epoch 302/500\n",
      "5/5 [==============================] - 0s 3ms/step - loss: 0.1360\n",
      "Epoch 303/500\n",
      "5/5 [==============================] - 0s 3ms/step - loss: 0.1357\n",
      "Epoch 304/500\n",
      "5/5 [==============================] - 0s 3ms/step - loss: 0.1355\n",
      "Epoch 305/500\n",
      "5/5 [==============================] - 0s 3ms/step - loss: 0.1355\n",
      "Epoch 306/500\n",
      "5/5 [==============================] - 0s 4ms/step - loss: 0.1355\n",
      "Epoch 307/500\n",
      "5/5 [==============================] - 0s 3ms/step - loss: 0.1355\n",
      "Epoch 308/500\n",
      "5/5 [==============================] - 0s 4ms/step - loss: 0.1353\n",
      "Epoch 309/500\n",
      "5/5 [==============================] - 0s 3ms/step - loss: 0.1355\n",
      "Epoch 310/500\n",
      "5/5 [==============================] - 0s 3ms/step - loss: 0.1354\n",
      "Epoch 311/500\n",
      "5/5 [==============================] - 0s 4ms/step - loss: 0.1355\n",
      "Epoch 312/500\n",
      "5/5 [==============================] - 0s 3ms/step - loss: 0.1355\n",
      "Epoch 313/500\n",
      "5/5 [==============================] - 0s 3ms/step - loss: 0.1354\n",
      "Epoch 314/500\n",
      "5/5 [==============================] - 0s 2ms/step - loss: 0.1354\n",
      "Epoch 315/500\n",
      "5/5 [==============================] - 0s 3ms/step - loss: 0.1353\n",
      "Epoch 316/500\n",
      "5/5 [==============================] - 0s 3ms/step - loss: 0.1354\n",
      "Epoch 317/500\n",
      "5/5 [==============================] - 0s 3ms/step - loss: 0.1353\n",
      "Epoch 318/500\n",
      "5/5 [==============================] - 0s 3ms/step - loss: 0.1352\n",
      "Epoch 319/500\n",
      "5/5 [==============================] - 0s 3ms/step - loss: 0.1353\n",
      "Epoch 320/500\n",
      "5/5 [==============================] - 0s 3ms/step - loss: 0.1351\n",
      "Epoch 321/500\n",
      "5/5 [==============================] - 0s 3ms/step - loss: 0.1350\n",
      "Epoch 322/500\n",
      "5/5 [==============================] - 0s 3ms/step - loss: 0.1349\n",
      "Epoch 323/500\n",
      "5/5 [==============================] - 0s 3ms/step - loss: 0.1348\n",
      "Epoch 324/500\n",
      "5/5 [==============================] - 0s 3ms/step - loss: 0.1348\n",
      "Epoch 325/500\n",
      "5/5 [==============================] - 0s 4ms/step - loss: 0.1348\n",
      "Epoch 326/500\n",
      "5/5 [==============================] - 0s 4ms/step - loss: 0.1348\n",
      "Epoch 327/500\n",
      "5/5 [==============================] - 0s 3ms/step - loss: 0.1348\n",
      "Epoch 328/500\n",
      "5/5 [==============================] - 0s 3ms/step - loss: 0.1347\n",
      "Epoch 329/500\n",
      "5/5 [==============================] - 0s 3ms/step - loss: 0.1346\n",
      "Epoch 330/500\n",
      "5/5 [==============================] - 0s 4ms/step - loss: 0.1346\n",
      "Epoch 331/500\n",
      "5/5 [==============================] - 0s 3ms/step - loss: 0.1346\n",
      "Epoch 332/500\n",
      "5/5 [==============================] - 0s 3ms/step - loss: 0.1346\n",
      "Epoch 333/500\n",
      "5/5 [==============================] - 0s 3ms/step - loss: 0.1345\n",
      "Epoch 334/500\n",
      "5/5 [==============================] - 0s 3ms/step - loss: 0.1347\n",
      "Epoch 335/500\n",
      "5/5 [==============================] - 0s 4ms/step - loss: 0.1346\n",
      "Epoch 336/500\n",
      "5/5 [==============================] - 0s 3ms/step - loss: 0.1345\n",
      "Epoch 337/500\n",
      "5/5 [==============================] - 0s 3ms/step - loss: 0.1345\n",
      "Epoch 338/500\n",
      "5/5 [==============================] - 0s 3ms/step - loss: 0.1346\n",
      "Epoch 339/500\n",
      "5/5 [==============================] - 0s 3ms/step - loss: 0.1346\n",
      "Epoch 340/500\n",
      "5/5 [==============================] - 0s 3ms/step - loss: 0.1345\n",
      "Epoch 341/500\n",
      "5/5 [==============================] - 0s 3ms/step - loss: 0.1345\n",
      "Epoch 342/500\n",
      "5/5 [==============================] - 0s 3ms/step - loss: 0.1345\n",
      "Epoch 343/500\n",
      "5/5 [==============================] - 0s 4ms/step - loss: 0.1344\n",
      "Epoch 344/500\n",
      "5/5 [==============================] - 0s 3ms/step - loss: 0.1343\n",
      "Epoch 345/500\n",
      "5/5 [==============================] - 0s 3ms/step - loss: 0.1343\n",
      "Epoch 346/500\n",
      "5/5 [==============================] - 0s 5ms/step - loss: 0.1342\n",
      "Epoch 347/500\n",
      "5/5 [==============================] - 0s 3ms/step - loss: 0.1343\n",
      "Epoch 348/500\n",
      "5/5 [==============================] - 0s 3ms/step - loss: 0.1342\n",
      "Epoch 349/500\n",
      "5/5 [==============================] - 0s 3ms/step - loss: 0.1343\n",
      "Epoch 350/500\n",
      "5/5 [==============================] - 0s 3ms/step - loss: 0.1342\n",
      "Epoch 351/500\n",
      "5/5 [==============================] - 0s 3ms/step - loss: 0.1343\n",
      "Epoch 352/500\n",
      "5/5 [==============================] - 0s 3ms/step - loss: 0.1346\n",
      "Epoch 353/500\n",
      "5/5 [==============================] - 0s 3ms/step - loss: 0.1345\n",
      "Epoch 354/500\n",
      "5/5 [==============================] - 0s 3ms/step - loss: 0.1346\n",
      "Epoch 355/500\n",
      "5/5 [==============================] - 0s 3ms/step - loss: 0.1345\n",
      "Epoch 356/500\n",
      "5/5 [==============================] - 0s 3ms/step - loss: 0.1343\n",
      "Epoch 357/500\n",
      "5/5 [==============================] - 0s 3ms/step - loss: 0.1341\n",
      "Epoch 358/500\n",
      "5/5 [==============================] - 0s 4ms/step - loss: 0.1341\n",
      "Epoch 359/500\n",
      "5/5 [==============================] - 0s 2ms/step - loss: 0.1342\n",
      "Epoch 360/500\n",
      "5/5 [==============================] - 0s 2ms/step - loss: 0.1341\n",
      "Epoch 361/500\n",
      "5/5 [==============================] - 0s 2ms/step - loss: 0.1340\n",
      "Epoch 362/500\n",
      "5/5 [==============================] - 0s 2ms/step - loss: 0.1339\n",
      "Epoch 363/500\n",
      "5/5 [==============================] - 0s 2ms/step - loss: 0.1341\n",
      "Epoch 364/500\n",
      "5/5 [==============================] - 0s 2ms/step - loss: 0.1340\n",
      "Epoch 365/500\n",
      "5/5 [==============================] - 0s 2ms/step - loss: 0.1339\n",
      "Epoch 366/500\n",
      "5/5 [==============================] - 0s 2ms/step - loss: 0.1337\n",
      "Epoch 367/500\n",
      "5/5 [==============================] - 0s 2ms/step - loss: 0.1336\n",
      "Epoch 368/500\n",
      "5/5 [==============================] - 0s 3ms/step - loss: 0.1336\n",
      "Epoch 369/500\n",
      "5/5 [==============================] - 0s 2ms/step - loss: 0.1335\n",
      "Epoch 370/500\n",
      "5/5 [==============================] - 0s 2ms/step - loss: 0.1335\n",
      "Epoch 371/500\n",
      "5/5 [==============================] - 0s 2ms/step - loss: 0.1337\n",
      "Epoch 372/500\n",
      "5/5 [==============================] - 0s 2ms/step - loss: 0.1342\n",
      "Epoch 373/500\n",
      "5/5 [==============================] - 0s 2ms/step - loss: 0.1346\n",
      "Epoch 374/500\n",
      "5/5 [==============================] - 0s 2ms/step - loss: 0.1346\n",
      "Epoch 375/500\n",
      "5/5 [==============================] - 0s 2ms/step - loss: 0.1344\n",
      "Epoch 376/500\n",
      "5/5 [==============================] - 0s 3ms/step - loss: 0.1342\n",
      "Epoch 377/500\n",
      "5/5 [==============================] - 0s 3ms/step - loss: 0.1341\n",
      "Epoch 378/500\n",
      "5/5 [==============================] - 0s 3ms/step - loss: 0.1343\n",
      "Epoch 379/500\n",
      "5/5 [==============================] - 0s 2ms/step - loss: 0.1341\n",
      "Epoch 380/500\n",
      "5/5 [==============================] - 0s 3ms/step - loss: 0.1337\n",
      "Epoch 381/500\n",
      "5/5 [==============================] - 0s 3ms/step - loss: 0.1337\n",
      "Epoch 382/500\n",
      "5/5 [==============================] - 0s 3ms/step - loss: 0.1337\n",
      "Epoch 383/500\n",
      "5/5 [==============================] - 0s 3ms/step - loss: 0.1336\n",
      "Epoch 384/500\n",
      "5/5 [==============================] - 0s 2ms/step - loss: 0.1337\n",
      "Epoch 385/500\n",
      "5/5 [==============================] - 0s 3ms/step - loss: 0.1336\n",
      "Epoch 386/500\n",
      "5/5 [==============================] - 0s 3ms/step - loss: 0.1335\n",
      "Epoch 387/500\n",
      "5/5 [==============================] - 0s 3ms/step - loss: 0.1333\n",
      "Epoch 388/500\n",
      "5/5 [==============================] - 0s 3ms/step - loss: 0.1334\n",
      "Epoch 389/500\n",
      "5/5 [==============================] - 0s 3ms/step - loss: 0.1334\n",
      "Epoch 390/500\n",
      "5/5 [==============================] - 0s 3ms/step - loss: 0.1334\n",
      "Epoch 391/500\n",
      "5/5 [==============================] - 0s 3ms/step - loss: 0.1333\n",
      "Epoch 392/500\n",
      "5/5 [==============================] - 0s 3ms/step - loss: 0.1332\n",
      "Epoch 393/500\n",
      "5/5 [==============================] - 0s 3ms/step - loss: 0.1330\n",
      "Epoch 394/500\n",
      "5/5 [==============================] - 0s 3ms/step - loss: 0.1330\n",
      "Epoch 395/500\n",
      "5/5 [==============================] - 0s 3ms/step - loss: 0.1328\n",
      "Epoch 396/500\n",
      "5/5 [==============================] - 0s 3ms/step - loss: 0.1329\n",
      "Epoch 397/500\n",
      "5/5 [==============================] - 0s 3ms/step - loss: 0.1329\n",
      "Epoch 398/500\n",
      "5/5 [==============================] - 0s 3ms/step - loss: 0.1328\n",
      "Epoch 399/500\n",
      "5/5 [==============================] - 0s 5ms/step - loss: 0.1328\n",
      "Epoch 400/500\n",
      "5/5 [==============================] - 0s 4ms/step - loss: 0.1328\n",
      "Epoch 401/500\n",
      "5/5 [==============================] - 0s 3ms/step - loss: 0.1328\n",
      "Epoch 402/500\n",
      "5/5 [==============================] - 0s 5ms/step - loss: 0.1330\n",
      "Epoch 403/500\n",
      "5/5 [==============================] - 0s 3ms/step - loss: 0.1330\n",
      "Epoch 404/500\n",
      "5/5 [==============================] - 0s 3ms/step - loss: 0.1330\n",
      "Epoch 405/500\n",
      "5/5 [==============================] - 0s 3ms/step - loss: 0.1330\n",
      "Epoch 406/500\n",
      "5/5 [==============================] - 0s 3ms/step - loss: 0.1329\n",
      "Epoch 407/500\n",
      "5/5 [==============================] - 0s 3ms/step - loss: 0.1328\n",
      "Epoch 408/500\n",
      "5/5 [==============================] - 0s 3ms/step - loss: 0.1327\n",
      "Epoch 409/500\n",
      "5/5 [==============================] - 0s 3ms/step - loss: 0.1327\n",
      "Epoch 410/500\n",
      "5/5 [==============================] - 0s 3ms/step - loss: 0.1325\n",
      "Epoch 411/500\n",
      "5/5 [==============================] - 0s 3ms/step - loss: 0.1326\n",
      "Epoch 412/500\n",
      "5/5 [==============================] - 0s 3ms/step - loss: 0.1324\n",
      "Epoch 413/500\n",
      "5/5 [==============================] - 0s 3ms/step - loss: 0.1324\n",
      "Epoch 414/500\n",
      "5/5 [==============================] - 0s 3ms/step - loss: 0.1324\n",
      "Epoch 415/500\n",
      "5/5 [==============================] - 0s 3ms/step - loss: 0.1323\n",
      "Epoch 416/500\n",
      "5/5 [==============================] - 0s 3ms/step - loss: 0.1323\n",
      "Epoch 417/500\n",
      "5/5 [==============================] - 0s 3ms/step - loss: 0.1326\n",
      "Epoch 418/500\n",
      "5/5 [==============================] - 0s 3ms/step - loss: 0.1326\n",
      "Epoch 419/500\n",
      "5/5 [==============================] - 0s 3ms/step - loss: 0.1327\n",
      "Epoch 420/500\n",
      "5/5 [==============================] - 0s 3ms/step - loss: 0.1327\n",
      "Epoch 421/500\n",
      "5/5 [==============================] - 0s 4ms/step - loss: 0.1325\n",
      "Epoch 422/500\n",
      "5/5 [==============================] - 0s 3ms/step - loss: 0.1324\n",
      "Epoch 423/500\n",
      "5/5 [==============================] - 0s 3ms/step - loss: 0.1324\n",
      "Epoch 424/500\n",
      "5/5 [==============================] - 0s 3ms/step - loss: 0.1323\n",
      "Epoch 425/500\n",
      "5/5 [==============================] - 0s 3ms/step - loss: 0.1322\n",
      "Epoch 426/500\n",
      "5/5 [==============================] - 0s 3ms/step - loss: 0.1321\n",
      "Epoch 427/500\n",
      "5/5 [==============================] - 0s 5ms/step - loss: 0.1321\n",
      "Epoch 428/500\n",
      "5/5 [==============================] - 0s 3ms/step - loss: 0.1321\n",
      "Epoch 429/500\n",
      "5/5 [==============================] - 0s 3ms/step - loss: 0.1320\n",
      "Epoch 430/500\n",
      "5/5 [==============================] - 0s 3ms/step - loss: 0.1320\n",
      "Epoch 431/500\n",
      "5/5 [==============================] - 0s 3ms/step - loss: 0.1319\n",
      "Epoch 432/500\n",
      "5/5 [==============================] - 0s 3ms/step - loss: 0.1317\n",
      "Epoch 433/500\n",
      "5/5 [==============================] - 0s 3ms/step - loss: 0.1318\n",
      "Epoch 434/500\n",
      "5/5 [==============================] - 0s 3ms/step - loss: 0.1319\n",
      "Epoch 435/500\n",
      "5/5 [==============================] - 0s 3ms/step - loss: 0.1321\n",
      "Epoch 436/500\n",
      "5/5 [==============================] - 0s 3ms/step - loss: 0.1321\n",
      "Epoch 437/500\n",
      "5/5 [==============================] - 0s 3ms/step - loss: 0.1321\n",
      "Epoch 438/500\n",
      "5/5 [==============================] - 0s 3ms/step - loss: 0.1325\n",
      "Epoch 439/500\n",
      "5/5 [==============================] - 0s 3ms/step - loss: 0.1328\n",
      "Epoch 440/500\n",
      "5/5 [==============================] - 0s 3ms/step - loss: 0.1326\n",
      "Epoch 441/500\n",
      "5/5 [==============================] - 0s 3ms/step - loss: 0.1326\n",
      "Epoch 442/500\n",
      "5/5 [==============================] - 0s 3ms/step - loss: 0.1324\n",
      "Epoch 443/500\n",
      "5/5 [==============================] - 0s 3ms/step - loss: 0.1321\n",
      "Epoch 444/500\n",
      "5/5 [==============================] - 0s 3ms/step - loss: 0.1321\n",
      "Epoch 445/500\n",
      "5/5 [==============================] - 0s 3ms/step - loss: 0.1321\n",
      "Epoch 446/500\n",
      "5/5 [==============================] - 0s 3ms/step - loss: 0.1322\n",
      "Epoch 447/500\n",
      "5/5 [==============================] - 0s 4ms/step - loss: 0.1320\n",
      "Epoch 448/500\n",
      "5/5 [==============================] - 0s 3ms/step - loss: 0.1319\n",
      "Epoch 449/500\n",
      "5/5 [==============================] - 0s 3ms/step - loss: 0.1317\n",
      "Epoch 450/500\n",
      "5/5 [==============================] - 0s 3ms/step - loss: 0.1317\n",
      "Epoch 451/500\n",
      "5/5 [==============================] - 0s 3ms/step - loss: 0.1317\n",
      "Epoch 452/500\n",
      "5/5 [==============================] - 0s 3ms/step - loss: 0.1317\n",
      "Epoch 453/500\n",
      "5/5 [==============================] - 0s 3ms/step - loss: 0.1317\n",
      "Epoch 454/500\n",
      "5/5 [==============================] - 0s 3ms/step - loss: 0.1316\n",
      "Epoch 455/500\n",
      "5/5 [==============================] - 0s 3ms/step - loss: 0.1316\n",
      "Epoch 456/500\n",
      "5/5 [==============================] - 0s 5ms/step - loss: 0.1314\n",
      "Epoch 457/500\n",
      "5/5 [==============================] - 0s 3ms/step - loss: 0.1313\n",
      "Epoch 458/500\n",
      "5/5 [==============================] - 0s 3ms/step - loss: 0.1312\n",
      "Epoch 459/500\n",
      "5/5 [==============================] - 0s 3ms/step - loss: 0.1311\n",
      "Epoch 460/500\n",
      "5/5 [==============================] - 0s 3ms/step - loss: 0.1310\n",
      "Epoch 461/500\n",
      "5/5 [==============================] - 0s 3ms/step - loss: 0.1309\n",
      "Epoch 462/500\n",
      "5/5 [==============================] - 0s 3ms/step - loss: 0.1310\n",
      "Epoch 463/500\n",
      "5/5 [==============================] - 0s 3ms/step - loss: 0.1309\n",
      "Epoch 464/500\n",
      "5/5 [==============================] - 0s 3ms/step - loss: 0.1309\n",
      "Epoch 465/500\n",
      "5/5 [==============================] - 0s 3ms/step - loss: 0.1309\n",
      "Epoch 466/500\n",
      "5/5 [==============================] - 0s 3ms/step - loss: 0.1308\n",
      "Epoch 467/500\n",
      "5/5 [==============================] - 0s 3ms/step - loss: 0.1308\n",
      "Epoch 468/500\n",
      "5/5 [==============================] - 0s 3ms/step - loss: 0.1308\n",
      "Epoch 469/500\n",
      "5/5 [==============================] - 0s 3ms/step - loss: 0.1308\n",
      "Epoch 470/500\n",
      "5/5 [==============================] - 0s 3ms/step - loss: 0.1308\n",
      "Epoch 471/500\n",
      "5/5 [==============================] - 0s 3ms/step - loss: 0.1308\n",
      "Epoch 472/500\n",
      "5/5 [==============================] - 0s 3ms/step - loss: 0.1309\n",
      "Epoch 473/500\n",
      "5/5 [==============================] - 0s 3ms/step - loss: 0.1310\n",
      "Epoch 474/500\n",
      "5/5 [==============================] - 0s 3ms/step - loss: 0.1313\n",
      "Epoch 475/500\n",
      "5/5 [==============================] - 0s 3ms/step - loss: 0.1316\n",
      "Epoch 476/500\n",
      "5/5 [==============================] - 0s 3ms/step - loss: 0.1318\n",
      "Epoch 477/500\n",
      "5/5 [==============================] - 0s 5ms/step - loss: 0.1324\n",
      "Epoch 478/500\n",
      "5/5 [==============================] - 0s 3ms/step - loss: 0.1325\n",
      "Epoch 479/500\n",
      "5/5 [==============================] - 0s 3ms/step - loss: 0.1322\n",
      "Epoch 480/500\n",
      "5/5 [==============================] - 0s 3ms/step - loss: 0.1313\n",
      "Epoch 481/500\n",
      "5/5 [==============================] - 0s 3ms/step - loss: 0.1309\n",
      "Epoch 482/500\n",
      "5/5 [==============================] - 0s 3ms/step - loss: 0.1308\n",
      "Epoch 483/500\n",
      "5/5 [==============================] - 0s 3ms/step - loss: 0.1307\n",
      "Epoch 484/500\n",
      "5/5 [==============================] - 0s 3ms/step - loss: 0.1304\n",
      "Epoch 485/500\n",
      "5/5 [==============================] - 0s 4ms/step - loss: 0.1305\n",
      "Epoch 486/500\n",
      "5/5 [==============================] - 0s 3ms/step - loss: 0.1303\n",
      "Epoch 487/500\n",
      "5/5 [==============================] - 0s 3ms/step - loss: 0.1303\n",
      "Epoch 488/500\n",
      "5/5 [==============================] - 0s 3ms/step - loss: 0.1303\n",
      "Epoch 489/500\n",
      "5/5 [==============================] - 0s 3ms/step - loss: 0.1303\n",
      "Epoch 490/500\n",
      "5/5 [==============================] - 0s 3ms/step - loss: 0.1303\n",
      "Epoch 491/500\n",
      "5/5 [==============================] - 0s 3ms/step - loss: 0.1304\n",
      "Epoch 492/500\n",
      "5/5 [==============================] - 0s 3ms/step - loss: 0.1303\n",
      "Epoch 493/500\n",
      "5/5 [==============================] - 0s 3ms/step - loss: 0.1305\n",
      "Epoch 494/500\n",
      "5/5 [==============================] - 0s 3ms/step - loss: 0.1306\n",
      "Epoch 495/500\n",
      "5/5 [==============================] - 0s 3ms/step - loss: 0.1305\n",
      "Epoch 496/500\n",
      "5/5 [==============================] - 0s 3ms/step - loss: 0.1304\n",
      "Epoch 497/500\n",
      "5/5 [==============================] - 0s 3ms/step - loss: 0.1304\n",
      "Epoch 498/500\n",
      "5/5 [==============================] - 0s 3ms/step - loss: 0.1301\n",
      "Epoch 499/500\n",
      "5/5 [==============================] - 0s 3ms/step - loss: 0.1300\n",
      "Epoch 500/500\n",
      "5/5 [==============================] - 0s 3ms/step - loss: 0.1299\n"
     ]
    },
    {
     "data": {
      "text/plain": [
       "<keras.callbacks.History at 0x7fb2813c2640>"
      ]
     },
     "execution_count": 70,
     "metadata": {},
     "output_type": "execute_result"
    }
   ],
   "source": [
    "# Training the sigmoid model\n",
    "\n",
    "sigmoid_model.fit(X_train, y_train, epochs=500)"
   ]
  },
  {
   "cell_type": "code",
   "execution_count": 71,
   "id": "dmSTYPkUEWZ4",
   "metadata": {
    "colab": {
     "base_uri": "https://localhost:8080/"
    },
    "id": "dmSTYPkUEWZ4",
    "outputId": "5095b661-353d-4a36-ba8f-928042ec4fb6"
   },
   "outputs": [
    {
     "name": "stdout",
     "output_type": "stream",
     "text": [
      "5/5 [==============================] - 0s 2ms/step\n",
      "1/1 [==============================] - 0s 23ms/step\n"
     ]
    }
   ],
   "source": [
    "# Sigmoid function predictions\n",
    "\n",
    "y_predict_sig = sigmoid_model.predict(X_train)\n",
    "y_predict_test_sig = sigmoid_model.predict(X_test)"
   ]
  },
  {
   "cell_type": "code",
   "execution_count": 72,
   "id": "LvNQRbEFEWWj",
   "metadata": {
    "id": "LvNQRbEFEWWj"
   },
   "outputs": [],
   "source": [
    "# Redo the scaling\n",
    "\n",
    "df_training_fit_sig = inverse_scaling(X_train, y_predict_sig, \"date\", \"passengers\")\n",
    "df_test_pred_sig = inverse_scaling(X_test, y_predict_test_sig, \"date\", \"passengers\")"
   ]
  },
  {
   "cell_type": "code",
   "execution_count": 73,
   "id": "93f087b7",
   "metadata": {
    "colab": {
     "base_uri": "https://localhost:8080/",
     "height": 418
    },
    "id": "93f087b7",
    "outputId": "5efeb648-8d65-480f-bbfd-29f94c215e6d"
   },
   "outputs": [
    {
     "data": {
      "image/png": "[encoded data removed]",
      "text/plain": [
       "<Figure size 720x432 with 1 Axes>"
      ]
     },
     "metadata": {
      "needs_background": "light"
     },
     "output_type": "display_data"
    }
   ],
   "source": [
    "# Plotting the predictions and the true values\n",
    "\n",
    "sns.lineplot(x=\"date\", y=\"passengers\", data=passengers, label=\"Observed data\")\n",
    "sns.lineplot(x=\"date\", y=\"passengers\", data=df_training_fit_sig, label=\"Training set fit\")\n",
    "sns.lineplot(x=\"date\", y=\"passengers\", data = df_test_pred_sig, label=\"Predictions\")\n",
    "plt.ylabel(\"Passengers\")\n",
    "plt.xlabel(\"Date\")\n",
    "plt.title(\"Number of passengers over time predictions\")\n",
    "plt.show()"
   ]
  },
  {
   "cell_type": "markdown",
   "id": "RJKWintitwxP",
   "metadata": {
    "id": "RJKWintitwxP"
   },
   "source": [
    "Even the sigmoid function, that is a non-linear function, could not fit the data well. Let's change the approach to solve this problem. Now, we are going to use each date to predict the number of passengers in the following day. \n",
    "\n",
    "For this task, the input data will be the original data and the output (or the predicted values) will be the number of passengers of the following day. Thus, we need to create a lag in the number of passengers numbers."
   ]
  },
  {
   "cell_type": "code",
   "execution_count": 74,
   "id": "9-8YhKTqvJck",
   "metadata": {
    "id": "9-8YhKTqvJck"
   },
   "outputs": [],
   "source": [
    "# Creating a data set with laged data\n",
    "\n",
    "X_train_lag, y_train_lag = data_lag(pd.DataFrame(y_train)[0], 1)\n",
    "X_test_lag, y_test_lag = data_lag(pd.DataFrame(y_test)[0], 1)"
   ]
  },
  {
   "cell_type": "markdown",
   "id": "i7naYxQ1cz1I",
   "metadata": {
    "id": "i7naYxQ1cz1I"
   },
   "source": [
    "Let's train and test the model. "
   ]
  },
  {
   "cell_type": "markdown",
   "id": "-iXRnouwjcVt",
   "metadata": {
    "id": "-iXRnouwjcVt"
   },
   "source": [
    "# USAR SIGMOID E LINEAR MESMO PARA VER QUALE QUE FICA MENOS PIOR."
   ]
  },
  {
   "cell_type": "code",
   "execution_count": 109,
   "id": "9UIKV_vbxEN8",
   "metadata": {
    "id": "9UIKV_vbxEN8"
   },
   "outputs": [],
   "source": [
    "# Building the lagged sigmoid model\n",
    "\n",
    "lagged_linear_model = Sequential()\n",
    "\n",
    "lagged_linear_model.add(Dense(8, input_dim=1,\n",
    "                              kernel_initializer = \"ones\",\n",
    "                              activation = \"linear\", use_bias=False))\n",
    "lagged_linear_model.add(Dense(8, kernel_initializer = \"random_uniform\",\n",
    "                              activation = \"linear\", use_bias=False))\n",
    "lagged_linear_model.add(Dense(1, kernel_initializer = \"random_uniform\",\n",
    "                              activation = \"linear\", use_bias=False))"
   ]
  },
  {
   "cell_type": "code",
   "execution_count": 110,
   "id": "gIPflnnHxEMA",
   "metadata": {
    "id": "gIPflnnHxEMA"
   },
   "outputs": [],
   "source": [
    "# Compiling the model\n",
    "\n",
    "lagged_linear_model.compile(loss=\"mean_squared_error\", optimizer = \"adam\")"
   ]
  },
  {
   "cell_type": "code",
   "execution_count": null,
   "id": "6hUO5kcTxEJI",
   "metadata": {
    "id": "6hUO5kcTxEJI"
   },
   "outputs": [],
   "source": [
    "# Fitting the model\n",
    "\n",
    "lagged_linear_model.fit(X_train_lag, y_train_lag, epochs=100)"
   ]
  },
  {
   "cell_type": "code",
   "execution_count": 113,
   "id": "iezSRmu2xEG8",
   "metadata": {
    "colab": {
     "base_uri": "https://localhost:8080/"
    },
    "id": "iezSRmu2xEG8",
    "outputId": "e24cb5db-56a9-4cd4-a272-c248d86e3a5c"
   },
   "outputs": [
    {
     "name": "stderr",
     "output_type": "stream",
     "text": [
      "WARNING:tensorflow:5 out of the last 11 calls to <function Model.make_predict_function.<locals>.predict_function at 0x7fb289fc2af0> triggered tf.function retracing. Tracing is expensive and the excessive number of tracings could be due to (1) creating @tf.function repeatedly in a loop, (2) passing tensors with different shapes, (3) passing Python objects instead of tensors. For (1), please define your @tf.function outside of the loop. For (2), @tf.function has reduce_retracing=True option that can avoid unnecessary retracing. For (3), please refer to https://www.tensorflow.org/guide/function#controlling_retracing and https://www.tensorflow.org/api_docs/python/tf/function for  more details.\n"
     ]
    },
    {
     "name": "stdout",
     "output_type": "stream",
     "text": [
      "4/4 [==============================] - 0s 3ms/step\n",
      "1/1 [==============================] - 0s 42ms/step\n"
     ]
    }
   ],
   "source": [
    "# Predicting the training and test sets\n",
    "\n",
    "y_pred_lagged_train = lagged_linear_model.predict(X_train_lag)\n",
    "y_pred_lagged_test = lagged_linear_model.predict(X_test_lag)"
   ]
  },
  {
   "cell_type": "code",
   "execution_count": 114,
   "id": "SIAgFcDaxEEn",
   "metadata": {
    "id": "SIAgFcDaxEEn"
   },
   "outputs": [],
   "source": [
    "# Redo the scaling\n",
    "\n",
    "df_training_fit_lagged = inverse_scaling(X_train_lag[:,0], y_pred_lagged_train, \"date\", \"passengers\")\n",
    "df_test_pred_lagged = inverse_scaling(X_test_lag[:,0], y_pred_lagged_test, \"date\", \"passengers\")"
   ]
  },
  {
   "cell_type": "code",
   "execution_count": 115,
   "id": "m9G74I5gxECJ",
   "metadata": {
    "colab": {
     "base_uri": "https://localhost:8080/",
     "height": 416
    },
    "id": "m9G74I5gxECJ",
    "outputId": "65c8c5ae-ee6f-4ec5-c906-96e0193ef2df"
   },
   "outputs": [
    {
     "data": {
      "text/plain": [
       "<matplotlib.axes._subplots.AxesSubplot at 0x7fb280f50340>"
      ]
     },
     "execution_count": 115,
     "metadata": {},
     "output_type": "execute_result"
    },
    {
     "data": {
      "image/png": "[encoded data removed]",
      "text/plain": [
       "<Figure size 720x432 with 1 Axes>"
      ]
     },
     "metadata": {
      "needs_background": "light"
     },
     "output_type": "display_data"
    }
   ],
   "source": [
    "# Plotting the predictions and the true values\n",
    "\n",
    "sns.lineplot(x='date',y=X_train_lag[:,0],data=passengers[1:129],label=\"Observed\") \n",
    "sns.lineplot(x='date',y=pd.DataFrame(y_pred_lagged_train)[0],data=passengers[1:129],label=\"Training fit\")\n",
    "\n",
    "sns.lineplot(x='date',y=X_test_lag[:,0],data=passengers[130:144],label=\"Test set\")\n",
    "sns.lineplot(x='date',y=y_pred_lagged_test[:,0],data=passengers[130:144],label=\"Prediction\")"
   ]
  },
  {
   "cell_type": "code",
   "execution_count": 101,
   "id": "xDxHY1bYxD_o",
   "metadata": {
    "colab": {
     "base_uri": "https://localhost:8080/"
    },
    "id": "xDxHY1bYxD_o",
    "outputId": "2f102ec3-6512-46ff-cbc5-9504e75773a5"
   },
   "outputs": [
    {
     "data": {
      "text/plain": [
       "array([0.54702795, 0.39520794, 0.54232025, 0.56830996, 0.5046331 ,\n",
       "       0.57214403, 0.6277448 , 0.63647634, 0.6626134 , 0.6714765 ,\n",
       "       0.6707525 , 0.6550792 , 0.6277448 , 0.501601  ], dtype=float32)"
      ]
     },
     "execution_count": 101,
     "metadata": {},
     "output_type": "execute_result"
    }
   ],
   "source": [
    "y_pred_lagged_test[:,0]"
   ]
  },
  {
   "cell_type": "markdown",
   "id": "EC4xetUJulGa",
   "metadata": {
    "id": "EC4xetUJulGa"
   },
   "source": [
    "--- "
   ]
  },
  {
   "cell_type": "markdown",
   "id": "j-pYXlVAuoLo",
   "metadata": {
    "id": "j-pYXlVAuoLo"
   },
   "source": [
    "# Bike rent"
   ]
  },
  {
   "cell_type": "markdown",
   "id": "crCysuEduoIm",
   "metadata": {
    "id": "crCysuEduoIm"
   },
   "source": []
  },
  {
   "cell_type": "markdown",
   "id": "QIwLy-gFun-i",
   "metadata": {
    "id": "QIwLy-gFun-i"
   },
   "source": []
  }
 ],
 "metadata": {
  "colab": {
   "collapsed_sections": [
    "yPLx73j1Bgr8",
    "lOxDX-5s1YiG"
   ],
   "provenance": []
  },
  "kernelspec": {
   "display_name": "Python 3 (ipykernel)",
   "language": "python",
   "name": "python3"
  },
  "language_info": {
   "codemirror_mode": {
    "name": "ipython",
    "version": 3
   },
   "file_extension": ".py",
   "mimetype": "text/x-python",
   "name": "python",
   "nbconvert_exporter": "python",
   "pygments_lexer": "ipython3",
   "version": "3.9.13"
  }
 },
 "nbformat": 4,
 "nbformat_minor": 5
}
